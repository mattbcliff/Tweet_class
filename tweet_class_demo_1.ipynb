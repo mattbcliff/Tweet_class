{
 "cells": [
  {
   "cell_type": "code",
   "execution_count": 58,
   "metadata": {
    "ExecuteTime": {
     "end_time": "2019-05-27T04:24:02.248110Z",
     "start_time": "2019-05-27T04:24:02.244676Z"
    }
   },
   "outputs": [],
   "source": [
    "import pandas as pd\n",
    "import numpy as np\n",
    "import re"
   ]
  },
  {
   "cell_type": "code",
   "execution_count": 59,
   "metadata": {
    "ExecuteTime": {
     "end_time": "2019-05-27T04:24:18.904644Z",
     "start_time": "2019-05-27T04:24:18.901188Z"
    }
   },
   "outputs": [],
   "source": [
    "# for viewing tweet text in a Dataframe\n",
    "pd.options.display.max_colwidth = 300"
   ]
  },
  {
   "cell_type": "code",
   "execution_count": 60,
   "metadata": {
    "ExecuteTime": {
     "end_time": "2019-05-27T04:24:19.426809Z",
     "start_time": "2019-05-27T04:24:19.412782Z"
    }
   },
   "outputs": [],
   "source": [
    "# simple tweet class\n",
    "class Tweet:\n",
    "    # initialize lazy instance with id optional\n",
    "    def __init__(self, text, tweetid=\"Undefined\", fit=False):\n",
    "        self.tweetid_ = tweetid\n",
    "        self.text_ = text\n",
    "        self.is_fit_ = False  \n",
    "        if fit == True: self.fit()\n",
    "        \n",
    "    # fit    \n",
    "    def fit(self):    \n",
    "        self.find_hashtags()\n",
    "        self.find_handles()\n",
    "        self.find_urls()\n",
    "        self.clean()\n",
    "        self.is_fit_ = True\n",
    "        #self.retweet_ = self-s_reteet() # determine later\n",
    "    \n",
    "    def find_hashtags(self):\n",
    "        hashtags = []\n",
    "        try:\n",
    "            hashtags.extend( re.findall(r\"#\\w+\", self.text_) )\n",
    "        except:\n",
    "            pass\n",
    "        self.hashtags_ = hashtags\n",
    "    \n",
    "    def find_handles(self):\n",
    "        handles = []\n",
    "        try:\n",
    "            handles.extend( re.findall(r\"@\\w+\", self.text_) )\n",
    "        except:\n",
    "            pass\n",
    "        self.handles_ = handles\n",
    "    \n",
    "    def find_urls(self):\n",
    "        # https://www.geeksforgeeks.org/python-check-url-string/\n",
    "        urls = []\n",
    "        try:\n",
    "            handles.extend(  url = re.findall('http[s]?://(?:[a-zA-Z]|[0-9]|[$-_@.&+]|[!*\\(\\), ]|(?:%[0-9a-fA-F][0-9a-fA-F]))+', self.text_) )\n",
    "        except:\n",
    "            pass\n",
    "        self.urls_ = urls\n",
    "    \n",
    "    def clean(self):\n",
    "        clean_text = {}\n",
    "        split_text = dict(enumerate(self.text_.split()))\n",
    "        non_text = self.hashtags_ + self.handles_ + self.urls_\n",
    "        for index, term in split_text.items():\n",
    "            if term not in non_text:\n",
    "                clean_text.update({index:term})\n",
    "        self.text_clean_ = \" \".join(clean_text.values())\n",
    "        \n",
    "        # also check if any non-text elements are interwoven with text\n",
    "        # not ideal to iterate twice but start/end are initially unknown (w/o rewrite of attr_ functions)\n",
    "        clean_text_start = min(clean_text.keys())\n",
    "        clean_text_end = max(clean_text.keys())\n",
    "        for index, term in split_text.items():\n",
    "            if term in non_text and index > clean_text_start and index < clean_text_end:\n",
    "                self.is_complex = True"
   ]
  },
  {
   "cell_type": "code",
   "execution_count": 61,
   "metadata": {
    "ExecuteTime": {
     "end_time": "2019-05-27T04:24:21.072023Z",
     "start_time": "2019-05-27T04:24:21.068163Z"
    }
   },
   "outputs": [],
   "source": [
    "# initialize some tweet instances\n",
    "tweet_1 = Tweet(\"This tweet object has no tweetid\")\n",
    "tweet_2 = Tweet(\"This tweet object as a tweetid\", tweetid=1234)"
   ]
  },
  {
   "cell_type": "code",
   "execution_count": 62,
   "metadata": {
    "ExecuteTime": {
     "end_time": "2019-05-27T04:24:22.137563Z",
     "start_time": "2019-05-27T04:24:22.133147Z"
    }
   },
   "outputs": [
    {
     "name": "stdout",
     "output_type": "stream",
     "text": [
      "Undefined\n",
      "1234\n"
     ]
    }
   ],
   "source": [
    "# check ids\n",
    "print(tweet_1.tweetid_)\n",
    "print(tweet_2.tweetid_)"
   ]
  },
  {
   "cell_type": "code",
   "execution_count": 64,
   "metadata": {
    "ExecuteTime": {
     "end_time": "2019-05-27T04:27:36.813026Z",
     "start_time": "2019-05-27T04:27:36.804853Z"
    }
   },
   "outputs": [
    {
     "name": "stdout",
     "output_type": "stream",
     "text": [
      "False\n",
      "False\n"
     ]
    }
   ],
   "source": [
    "# check fit status\n",
    "print(tweet_1.is_fit_)\n",
    "print(tweet_2.is_fit_)"
   ]
  }
 ],
 "metadata": {
  "hide_input": false,
  "kernelspec": {
   "display_name": "Python 3",
   "language": "python",
   "name": "python3"
  },
  "language_info": {
   "codemirror_mode": {
    "name": "ipython",
    "version": 3
   },
   "file_extension": ".py",
   "mimetype": "text/x-python",
   "name": "python",
   "nbconvert_exporter": "python",
   "pygments_lexer": "ipython3",
   "version": "3.7.3"
  },
  "toc": {
   "base_numbering": 1,
   "nav_menu": {},
   "number_sections": true,
   "sideBar": true,
   "skip_h1_title": false,
   "title_cell": "Table of Contents",
   "title_sidebar": "Contents",
   "toc_cell": false,
   "toc_position": {},
   "toc_section_display": true,
   "toc_window_display": false
  }
 },
 "nbformat": 4,
 "nbformat_minor": 2
}
