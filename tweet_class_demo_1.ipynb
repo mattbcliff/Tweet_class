{
 "cells": [
  {
   "cell_type": "code",
   "execution_count": 77,
   "metadata": {
    "ExecuteTime": {
     "end_time": "2019-05-28T03:10:06.414373Z",
     "start_time": "2019-05-28T03:10:06.397348Z"
    }
   },
   "outputs": [],
   "source": [
    "# simple tweet class\n",
    "\n",
    "import pandas as pd\n",
    "import numpy as np\n",
    "import re\n",
    "import emoji\n",
    "\n",
    "class Tweet:\n",
    "    # initialize lazy-by-default instance\n",
    "    # id and fit on init optional\n",
    "    def __init__(self, text, tweetid=\"Undefined\", fit_it=False):\n",
    "        self.tweetid_ = tweetid\n",
    "        self.text_ = text\n",
    "        if fit_it == True:\n",
    "            self.fit()\n",
    "        else:\n",
    "            self.is_fit_ = False\n",
    "\n",
    "    # fit calls all methods, setting all attributes\n",
    "    def fit(self):\n",
    "        if self.is_fit_ == True:  # avoid refitting\n",
    "            print(f\"Tweet \\'{self.tweetid_}\\' already fit!\")\n",
    "        else:\n",
    "            self.find_hashtags()  # make a list of hashtags\n",
    "            self.find_handles()  # ...\n",
    "            self.find_urls()\n",
    "            self.find_emojis()\n",
    "            self.clean()\n",
    "            self.is_fit_ = True\n",
    "\n",
    "    # make a list of hashtags\n",
    "    def find_hashtags(self):\n",
    "        hashtags = []\n",
    "        try:\n",
    "            hashtags.extend(re.findall(r\"#\\w+\", self.text_))\n",
    "        except:\n",
    "            pass\n",
    "        self.hashtags_ = hashtags\n",
    "\n",
    "    # list of handles\n",
    "    def find_handles(self):\n",
    "        handles = []\n",
    "        try:\n",
    "            handles.extend(re.findall(r\"@\\w+\", self.text_))\n",
    "        except:\n",
    "            pass\n",
    "        self.handles_ = handles\n",
    "\n",
    "    # list of urls\n",
    "    def find_urls(self):\n",
    "        urls = []\n",
    "        # source: https://www.geeksforgeeks.org/python-check-url-string/\n",
    "        urls = re.findall(r\"http[s]?://(?:[a-zA-Z]|[0-9]|[$-_@.&+]|[!*\\(\\), ]|(?:%[0-9a-fA-F][0-9a-fA-F]))+\", self.text_)\n",
    "        self.urls_ = urls\n",
    "\n",
    "    def find_emojis(self):\n",
    "        emojis = []\n",
    "        try:\n",
    "            emojis.extend(re.findall(emoji.get_emoji_regexp(), self.text_))\n",
    "        except:\n",
    "            pass\n",
    "        self.emojis_ = emojis\n",
    "        self.demojis_ = [emoji.demojize(e) for e in emojis]\n",
    "\n",
    "    # remove special elements and provide as .text_clean_\n",
    "    # indicate whether elements are woven into text (just in a word order sense for now)\n",
    "    def clean(self):\n",
    "        clean_text = {}\n",
    "        split_text = dict(enumerate(self.text_.split()))\n",
    "        special_elements = self.hashtags_ + self.handles_ + self.urls_ + self.emojis_\n",
    "        for index, term in split_text.items():\n",
    "            if term not in special_elements:\n",
    "                clean_text.update({index: term})\n",
    "        self.text_clean_ = \" \".join(clean_text.values())\n",
    "\n",
    "        # also check if any non-text elements are interwoven with text\n",
    "        # not ideal to iterate twice but start/end are initially unknown (w/o rewrite of attr_ functions)\n",
    "        self.is_complex_ = False\n",
    "        clean_text_start = min(clean_text.keys())\n",
    "        clean_text_end = max(clean_text.keys())\n",
    "        for index, term in split_text.items():\n",
    "            if term in special_elements and clean_text_start > index < clean_text_end:\n",
    "                self.is_complex_ = True\n",
    "\n",
    "    # simple status report\n",
    "    def attributes(self):\n",
    "        for k,v in sorted(vars(self).items()):\n",
    "            print(f\"{k}: {v}\", end='\\n')\n",
    "        print()"
   ]
  },
  {
   "cell_type": "code",
   "execution_count": 78,
   "metadata": {
    "ExecuteTime": {
     "end_time": "2019-05-28T03:10:06.953283Z",
     "start_time": "2019-05-28T03:10:06.948278Z"
    }
   },
   "outputs": [],
   "source": [
    "# initialize some tweet instances\n",
    "tweet_1 = Tweet(\"#This @tweetobject starts and ends with a hastag and handle and has #no @tweetid.\")\n",
    "tweet_2 = Tweet(\"This tweetobject has #complicatinginternalelements and a @tweetid. It also ends in a url https://t.co/example\", tweetid=1234)\n",
    "\n",
    "# for a touch of intrigue, we'll select an emoji at random\n",
    "emojis = list(emoji.EMOJI_UNICODE.values())\n",
    "randint = np.random.randint(0,len(emojis)-1)\n",
    "tweet_3 = Tweet(f\"This tweet has a random emoji: {emojis[randint]} \")\n",
    "\n",
    "# drop them into a list\n",
    "tweets = [tweet_1, tweet_2, tweet_3]"
   ]
  },
  {
   "cell_type": "code",
   "execution_count": 79,
   "metadata": {
    "ExecuteTime": {
     "end_time": "2019-05-28T03:10:07.413218Z",
     "start_time": "2019-05-28T03:10:07.403642Z"
    }
   },
   "outputs": [
    {
     "name": "stdout",
     "output_type": "stream",
     "text": [
      "is_fit_: False\n",
      "text_: #This @tweetobject starts and ends with a hastag and handle and has #no @tweetid.\n",
      "tweetid_: Undefined\n",
      "\n",
      "is_fit_: False\n",
      "text_: This tweetobject has #complicatinginternalelements and a @tweetid. It also ends in a url https://t.co/example\n",
      "tweetid_: 1234\n",
      "\n",
      "is_fit_: False\n",
      "text_: This tweet has a random emoji: 🗯 \n",
      "tweetid_: Undefined\n",
      "\n"
     ]
    }
   ],
   "source": [
    "# check attributes on unfit tweet objects\n",
    "# sort here just to compare text versions more easily\n",
    "for tweet in tweets:\n",
    "    tweet.attributes()"
   ]
  },
  {
   "cell_type": "code",
   "execution_count": 80,
   "metadata": {
    "ExecuteTime": {
     "end_time": "2019-05-28T03:10:08.143544Z",
     "start_time": "2019-05-28T03:10:08.138760Z"
    }
   },
   "outputs": [],
   "source": [
    "# fit tweets\n",
    "[tweet.fit() for tweet in tweets];"
   ]
  },
  {
   "cell_type": "code",
   "execution_count": 81,
   "metadata": {
    "ExecuteTime": {
     "end_time": "2019-05-28T03:10:08.729644Z",
     "start_time": "2019-05-28T03:10:08.724137Z"
    }
   },
   "outputs": [
    {
     "name": "stdout",
     "output_type": "stream",
     "text": [
      "Tweet 'Undefined' already fit!\n",
      "Tweet '1234' already fit!\n",
      "Tweet 'Undefined' already fit!\n"
     ]
    }
   ],
   "source": [
    "# attempt to re-fit tweets\n",
    "[tweet.fit() for tweet in tweets];"
   ]
  },
  {
   "cell_type": "code",
   "execution_count": 82,
   "metadata": {
    "ExecuteTime": {
     "end_time": "2019-05-28T03:10:09.469068Z",
     "start_time": "2019-05-28T03:10:09.459299Z"
    }
   },
   "outputs": [
    {
     "name": "stdout",
     "output_type": "stream",
     "text": [
      "demojis_: []\n",
      "emojis_: []\n",
      "handles_: ['@tweetobject', '@tweetid']\n",
      "hashtags_: ['#This', '#no']\n",
      "is_complex_: True\n",
      "is_fit_: True\n",
      "text_: #This @tweetobject starts and ends with a hastag and handle and has #no @tweetid.\n",
      "text_clean_: starts and ends with a hastag and handle and has @tweetid.\n",
      "tweetid_: Undefined\n",
      "urls_: []\n",
      "\n",
      "demojis_: []\n",
      "emojis_: []\n",
      "handles_: ['@tweetid']\n",
      "hashtags_: ['#complicatinginternalelements']\n",
      "is_complex_: False\n",
      "is_fit_: True\n",
      "text_: This tweetobject has #complicatinginternalelements and a @tweetid. It also ends in a url https://t.co/example\n",
      "text_clean_: This tweetobject has and a @tweetid. It also ends in a url\n",
      "tweetid_: 1234\n",
      "urls_: ['https://t.co/example']\n",
      "\n",
      "demojis_: [':right_anger_bubble:']\n",
      "emojis_: ['🗯']\n",
      "handles_: []\n",
      "hashtags_: []\n",
      "is_complex_: False\n",
      "is_fit_: True\n",
      "text_: This tweet has a random emoji: 🗯 \n",
      "text_clean_: This tweet has a random emoji:\n",
      "tweetid_: Undefined\n",
      "urls_: []\n",
      "\n"
     ]
    }
   ],
   "source": [
    "for tweet in tweets:\n",
    "    tweet.attributes()"
   ]
  },
  {
   "cell_type": "code",
   "execution_count": null,
   "metadata": {},
   "outputs": [],
   "source": []
  }
 ],
 "metadata": {
  "hide_input": false,
  "kernelspec": {
   "display_name": "Python 3",
   "language": "python",
   "name": "python3"
  },
  "language_info": {
   "codemirror_mode": {
    "name": "ipython",
    "version": 3
   },
   "file_extension": ".py",
   "mimetype": "text/x-python",
   "name": "python",
   "nbconvert_exporter": "python",
   "pygments_lexer": "ipython3",
   "version": "3.7.3"
  },
  "toc": {
   "base_numbering": 1,
   "nav_menu": {},
   "number_sections": true,
   "sideBar": true,
   "skip_h1_title": false,
   "title_cell": "Table of Contents",
   "title_sidebar": "Contents",
   "toc_cell": false,
   "toc_position": {},
   "toc_section_display": true,
   "toc_window_display": false
  }
 },
 "nbformat": 4,
 "nbformat_minor": 2
}
