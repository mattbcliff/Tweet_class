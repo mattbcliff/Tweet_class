{
 "cells": [
  {
   "cell_type": "code",
   "execution_count": 1,
   "metadata": {
    "ExecuteTime": {
     "end_time": "2019-05-28T03:56:34.177224Z",
     "start_time": "2019-05-28T03:56:33.714977Z"
    }
   },
   "outputs": [],
   "source": [
    "# simple tweet class\n",
    "\n",
    "import pandas as pd\n",
    "import numpy as np\n",
    "import re\n",
    "import emoji\n",
    "\n",
    "class Tweet:\n",
    "    # initialize lazy-by-default instance\n",
    "    # id and fit on init optional\n",
    "    def __init__(self, text, tweetid=\"Undefined\", fit_it=False):\n",
    "        self.tweetid_ = tweetid\n",
    "        self.text_ = text\n",
    "        if fit_it == True:\n",
    "            self.fit()\n",
    "        else:\n",
    "            self.is_fit_ = False\n",
    "\n",
    "    # fit calls all methods, setting all attributes\n",
    "    def fit(self):\n",
    "        if self.is_fit_ == True:  # avoid refitting\n",
    "            print(f\"Tweet \\'{self.tweetid_}\\' already fit!\")\n",
    "        else:\n",
    "            self.find_hashtags()  # make a list of hashtags\n",
    "            self.find_handles()  # ...\n",
    "            self.find_urls()\n",
    "            self.find_emojis()\n",
    "            self.clean()\n",
    "            self.is_fit_ = True\n",
    "\n",
    "    # make a list of hashtags\n",
    "    def find_hashtags(self):\n",
    "        hashtags = []\n",
    "        try:\n",
    "            hashtags.extend(re.findall(r\"#\\w+\", self.text_))\n",
    "        except:\n",
    "            pass\n",
    "        self.hashtags_ = hashtags\n",
    "\n",
    "    # list of handles\n",
    "    def find_handles(self):\n",
    "        handles = []\n",
    "        try:\n",
    "            handles.extend(re.findall(r\"@\\w+\", self.text_))\n",
    "        except:\n",
    "            pass\n",
    "        self.handles_ = handles\n",
    "\n",
    "    # list of urls\n",
    "    def find_urls(self):\n",
    "        urls = []\n",
    "        # source: https://www.geeksforgeeks.org/python-check-url-string/\n",
    "        urls = re.findall(r\"https?://t\\.co/\\S+\", self.text_)\n",
    "        self.urls_ = urls\n",
    "\n",
    "    # list of emojis\n",
    "    def find_emojis(self):\n",
    "        emojis = []\n",
    "        try:\n",
    "            emojis.extend(re.findall(emoji.get_emoji_regexp(), self.text_))\n",
    "        except:\n",
    "            pass\n",
    "        self.emojis_ = emojis\n",
    "        self.demojis_ = [emoji.demojize(e) for e in emojis]\n",
    "        \n",
    "    # simple status report\n",
    "    def show_attributes(self):\n",
    "        for k,v in sorted(vars(self).items()):\n",
    "            print(f\"{k}: {v}\", end='\\n')\n",
    "        print()\n",
    "\n",
    "    # remove special elements and provide as .text_clean_\n",
    "    # indicate whether elements are woven into text (just in a word order sense for now)\n",
    "    def clean(self):\n",
    "        clean_text = {}\n",
    "        split_text = dict(enumerate(self.text_.split()))\n",
    "        special_elements = self.hashtags_ + self.handles_ + self.urls_ + self.emojis_\n",
    "        for index, term in split_text.items():\n",
    "            if term not in special_elements:\n",
    "                clean_text.update({index: term})\n",
    "        self.text_clean_ = \" \".join(clean_text.values())\n",
    "\n",
    "        # also check if any non-text elements are interwoven with text\n",
    "        self.is_complex_ = False\n",
    "        start_clean_text = min(clean_text.keys())\n",
    "        end_clean_text = max(clean_text.keys())\n",
    "        for index, term in split_text.items():\n",
    "            if term in special_elements and index in range(start_clean_text, end_clean_text):\n",
    "                self.is_complex_ = True\n",
    "                break"
   ]
  },
  {
   "cell_type": "code",
   "execution_count": 2,
   "metadata": {
    "ExecuteTime": {
     "end_time": "2019-05-28T03:56:34.185711Z",
     "start_time": "2019-05-28T03:56:34.179879Z"
    }
   },
   "outputs": [],
   "source": [
    "# initialize some tweet instances and drop them into a list\n",
    "tweet_1 = Tweet(\"#This @tweetobject is not complex because the normal text is all together in the middle #alsonotweetid.\")\n",
    "tweet_2 = Tweet(\"This tweetobject has #specialelements https://t.co/mixedin @with text.\", tweetid=1234)\n",
    "emojis = list(emoji.EMOJI_UNICODE.values())\n",
    "randint = np.random.randint(0,len(emojis)-1)\n",
    "tweet_3 = Tweet(f\"This tweet has a random emoji: {emojis[randint]} \")\n",
    "tweets = [tweet_1, tweet_2, tweet_3]"
   ]
  },
  {
   "cell_type": "code",
   "execution_count": 3,
   "metadata": {
    "ExecuteTime": {
     "end_time": "2019-05-28T03:56:34.251677Z",
     "start_time": "2019-05-28T03:56:34.189170Z"
    }
   },
   "outputs": [
    {
     "name": "stdout",
     "output_type": "stream",
     "text": [
      "Tweet '1234' already fit!\n",
      "demojis_: []\n",
      "emojis_: []\n",
      "handles_: ['@with']\n",
      "hashtags_: ['#specialelements']\n",
      "is_complex_: True\n",
      "is_fit_: True\n",
      "text_: This tweetobject has #specialelements https://t.co/mixedin @with text.\n",
      "text_clean_: This tweetobject has text.\n",
      "tweetid_: 1234\n",
      "urls_: ['https://t.co/mixedin']\n",
      "\n"
     ]
    }
   ],
   "source": [
    "# show one example\n",
    "tweet_2.fit()\n",
    "tweet_2.fit() # attempt refit\n",
    "tweet_2.show_attributes()"
   ]
  }
 ],
 "metadata": {
  "hide_input": false,
  "kernelspec": {
   "display_name": "Python 3",
   "language": "python",
   "name": "python3"
  },
  "language_info": {
   "codemirror_mode": {
    "name": "ipython",
    "version": 3
   },
   "file_extension": ".py",
   "mimetype": "text/x-python",
   "name": "python",
   "nbconvert_exporter": "python",
   "pygments_lexer": "ipython3",
   "version": "3.7.3"
  },
  "toc": {
   "base_numbering": 1,
   "nav_menu": {},
   "number_sections": true,
   "sideBar": true,
   "skip_h1_title": false,
   "title_cell": "Table of Contents",
   "title_sidebar": "Contents",
   "toc_cell": false,
   "toc_position": {},
   "toc_section_display": true,
   "toc_window_display": false
  }
 },
 "nbformat": 4,
 "nbformat_minor": 2
}
