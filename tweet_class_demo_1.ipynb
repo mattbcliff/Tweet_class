{
 "cells": [
  {
   "cell_type": "code",
   "execution_count": 138,
   "metadata": {
    "ExecuteTime": {
     "end_time": "2019-05-27T07:44:28.954740Z",
     "start_time": "2019-05-27T07:44:28.939722Z"
    }
   },
   "outputs": [],
   "source": [
    "# simple tweet class\n",
    "\n",
    "import pandas as pd\n",
    "import numpy as np\n",
    "import re\n",
    "import emoji\n",
    "\n",
    "class Tweet:\n",
    "    # initialize lazy-by-default instance\n",
    "    # id and fit on init optional\n",
    "    def __init__(self, text, tweetid=\"Undefined\", fit_it=False):\n",
    "        self.tweetid_ = tweetid\n",
    "        self.text_ = text\n",
    "        if fit_it == True:\n",
    "            self.fit()\n",
    "        else:\n",
    "            self.is_fit_ = False\n",
    "        \n",
    "    # fit calls all methods, setting all attributes\n",
    "    def fit(self):    \n",
    "        if self.is_fit_ == True: # avoid refitting \n",
    "            print(\"Already fit!\")\n",
    "        else:\n",
    "            self.find_hashtags() # make a list of hashtags\n",
    "            self.find_handles()  #...\n",
    "            self.find_urls()\n",
    "            self.find_emojis()\n",
    "            self.clean()\n",
    "            self.is_fit_ = True\n",
    "\n",
    "        # self.is_retweet() # add later\n",
    "    \n",
    "    # make a list of hashtags\n",
    "    def find_hashtags(self):\n",
    "        hashtags = []\n",
    "        try:\n",
    "            hashtags.extend( re.findall(r\"#\\w+\", self.text_) )\n",
    "        except:\n",
    "            pass\n",
    "        self.hashtags_ = hashtags\n",
    "    \n",
    "    # list of handles\n",
    "    def find_handles(self):\n",
    "        handles = []\n",
    "        try:\n",
    "            handles.extend( re.findall(r\"@\\w+\", self.text_) )\n",
    "        except:\n",
    "            pass\n",
    "        self.handles_ = handles\n",
    "    \n",
    "    # list of urls\n",
    "    def find_urls(self):\n",
    "        # regex from https://www.geeksforgeeks.org/python-check-url-string/\n",
    "        urls = []\n",
    "        try:\n",
    "            handles.extend( re.findall(r\"https?://(?:[-\\w.]|(?:%[\\da-fA-F]{2}))+\", self.text_) )\n",
    "        except:\n",
    "            pass\n",
    "        self.urls_ = urls\n",
    "        \n",
    "    def find_emojis(self):\n",
    "        emojis = []\n",
    "        try:\n",
    "            emojis.extend( re.findall( emoji.get_emoji_regexp(), self.text_) )\n",
    "        except:\n",
    "            pass\n",
    "        self.emojis_ = emojis\n",
    "        self.demojis_ = [emoji.demojize(e) for e in emojis]\n",
    "    \n",
    "    # remove special elements and provide as .text_clean_\n",
    "    # indicate whether elements are woven into text (just in a word order sense for now)\n",
    "    def clean(self):\n",
    "        clean_text = {}\n",
    "        split_text = dict(enumerate(self.text_.split()))\n",
    "        non_text = self.hashtags_ + self.handles_ + self.urls_ + self.emojis_\n",
    "        for index, term in split_text.items():\n",
    "            if term not in non_text:\n",
    "                clean_text.update({index:term})\n",
    "        self.text_clean_ = \" \".join(clean_text.values())\n",
    "        \n",
    "        # also check if any non-text elements are interwoven with text\n",
    "        # not ideal to iterate twice but start/end are initially unknown (w/o rewrite of attr_ functions)\n",
    "        self.is_complex_ = False\n",
    "        clean_text_start = min(clean_text.keys())\n",
    "        clean_text_end = max(clean_text.keys())\n",
    "        for index, term in split_text.items():\n",
    "            if term in non_text and clean_text_start > index < clean_text_end:\n",
    "                self.is_complex_ = True                "
   ]
  },
  {
   "cell_type": "code",
   "execution_count": 139,
   "metadata": {
    "ExecuteTime": {
     "end_time": "2019-05-27T07:44:29.464107Z",
     "start_time": "2019-05-27T07:44:29.459790Z"
    }
   },
   "outputs": [],
   "source": [
    "# initialize some tweet instances\n",
    "# for a touch of intrigue, we'll select an emoji at random\n",
    "tweet_1 = Tweet(\"This tweet object has no tweetid.\")\n",
    "tweet_2 = Tweet(\"This tweet object has a tweetid\", tweetid=1234)\n",
    "tweet_3 = Tweet(\"#Thistweet starts with a hashgtag and ends with a https://t.co.qwerty\")\n",
    "tweet_4 = Tweet(\"This tweet has a #hashtagwithintext and @handle as well\")\n",
    "tweet_5 = Tweet(f\"This tweet has a random emoji: {list(emoji.EMOJI_UNICODE.values())[np.random.randint(0,1000)]} \")"
   ]
  },
  {
   "cell_type": "code",
   "execution_count": 140,
   "metadata": {
    "ExecuteTime": {
     "end_time": "2019-05-27T07:44:29.873606Z",
     "start_time": "2019-05-27T07:44:29.870498Z"
    }
   },
   "outputs": [],
   "source": [
    "# drop them into a list\n",
    "tweets = [tweet_1, tweet_2, tweet_3, tweet_4, tweet_5]"
   ]
  },
  {
   "cell_type": "code",
   "execution_count": 141,
   "metadata": {
    "ExecuteTime": {
     "end_time": "2019-05-27T07:44:30.323183Z",
     "start_time": "2019-05-27T07:44:30.317242Z"
    }
   },
   "outputs": [
    {
     "data": {
      "text/plain": [
       "[[('is_fit_', False),\n",
       "  ('text_', 'This tweet object has no tweetid.'),\n",
       "  ('tweetid_', 'Undefined')],\n",
       " [('is_fit_', False),\n",
       "  ('text_', 'This tweet object has a tweetid'),\n",
       "  ('tweetid_', 1234)],\n",
       " [('is_fit_', False),\n",
       "  ('text_',\n",
       "   '#Thistweet starts with a hashgtag and ends with a https://t.co.qwerty'),\n",
       "  ('tweetid_', 'Undefined')],\n",
       " [('is_fit_', False),\n",
       "  ('text_', 'This tweet has a #hashtagwithintext and @handle as well'),\n",
       "  ('tweetid_', 'Undefined')],\n",
       " [('is_fit_', False),\n",
       "  ('text_', 'This tweet has a random emoji: 👶🏽 '),\n",
       "  ('tweetid_', 'Undefined')]]"
      ]
     },
     "execution_count": 141,
     "metadata": {},
     "output_type": "execute_result"
    }
   ],
   "source": [
    "# check attributes on unfit tweet objects\n",
    "# sort here just to compare text versions more easily\n",
    "[sorted(vars(tweet).items()) for tweet in tweets]"
   ]
  },
  {
   "cell_type": "code",
   "execution_count": 142,
   "metadata": {
    "ExecuteTime": {
     "end_time": "2019-05-27T07:44:31.154111Z",
     "start_time": "2019-05-27T07:44:31.147565Z"
    }
   },
   "outputs": [
    {
     "data": {
      "text/plain": [
       "[None, None, None, None, None]"
      ]
     },
     "execution_count": 142,
     "metadata": {},
     "output_type": "execute_result"
    }
   ],
   "source": [
    "# fit tweets\n",
    "[tweet.fit() for tweet in tweets]"
   ]
  },
  {
   "cell_type": "code",
   "execution_count": 143,
   "metadata": {
    "ExecuteTime": {
     "end_time": "2019-05-27T07:44:31.932308Z",
     "start_time": "2019-05-27T07:44:31.923919Z"
    }
   },
   "outputs": [
    {
     "data": {
      "text/plain": [
       "[[('demojis_', []),\n",
       "  ('emojis_', []),\n",
       "  ('handles_', []),\n",
       "  ('hashtags_', []),\n",
       "  ('is_complex_', False),\n",
       "  ('is_fit_', True),\n",
       "  ('text_', 'This tweet object has no tweetid.'),\n",
       "  ('text_clean_', 'This tweet object has no tweetid.'),\n",
       "  ('tweetid_', 'Undefined'),\n",
       "  ('urls_', [])],\n",
       " [('demojis_', []),\n",
       "  ('emojis_', []),\n",
       "  ('handles_', []),\n",
       "  ('hashtags_', []),\n",
       "  ('is_complex_', False),\n",
       "  ('is_fit_', True),\n",
       "  ('text_', 'This tweet object has a tweetid'),\n",
       "  ('text_clean_', 'This tweet object has a tweetid'),\n",
       "  ('tweetid_', 1234),\n",
       "  ('urls_', [])],\n",
       " [('demojis_', []),\n",
       "  ('emojis_', []),\n",
       "  ('handles_', []),\n",
       "  ('hashtags_', ['#Thistweet']),\n",
       "  ('is_complex_', True),\n",
       "  ('is_fit_', True),\n",
       "  ('text_',\n",
       "   '#Thistweet starts with a hashgtag and ends with a https://t.co.qwerty'),\n",
       "  ('text_clean_',\n",
       "   'starts with a hashgtag and ends with a https://t.co.qwerty'),\n",
       "  ('tweetid_', 'Undefined'),\n",
       "  ('urls_', [])],\n",
       " [('demojis_', []),\n",
       "  ('emojis_', []),\n",
       "  ('handles_', ['@handle']),\n",
       "  ('hashtags_', ['#hashtagwithintext']),\n",
       "  ('is_complex_', False),\n",
       "  ('is_fit_', True),\n",
       "  ('text_', 'This tweet has a #hashtagwithintext and @handle as well'),\n",
       "  ('text_clean_', 'This tweet has a and as well'),\n",
       "  ('tweetid_', 'Undefined'),\n",
       "  ('urls_', [])],\n",
       " [('demojis_', [':baby_medium_skin_tone:']),\n",
       "  ('emojis_', ['👶🏽']),\n",
       "  ('handles_', []),\n",
       "  ('hashtags_', []),\n",
       "  ('is_complex_', False),\n",
       "  ('is_fit_', True),\n",
       "  ('text_', 'This tweet has a random emoji: 👶🏽 '),\n",
       "  ('text_clean_', 'This tweet has a random emoji:'),\n",
       "  ('tweetid_', 'Undefined'),\n",
       "  ('urls_', [])]]"
      ]
     },
     "execution_count": 143,
     "metadata": {},
     "output_type": "execute_result"
    }
   ],
   "source": [
    "# check attributes on fitted tweets\n",
    "[sorted(vars(tweet).items()) for tweet in tweets]"
   ]
  },
  {
   "cell_type": "code",
   "execution_count": 144,
   "metadata": {
    "ExecuteTime": {
     "end_time": "2019-05-27T07:44:35.154074Z",
     "start_time": "2019-05-27T07:44:35.148020Z"
    }
   },
   "outputs": [
    {
     "data": {
      "text/plain": [
       "[False, False, True, False, False]"
      ]
     },
     "execution_count": 144,
     "metadata": {},
     "output_type": "execute_result"
    }
   ],
   "source": [
    "[tweet.is_complex_ for tweet in tweets]"
   ]
  },
  {
   "cell_type": "code",
   "execution_count": 145,
   "metadata": {
    "ExecuteTime": {
     "end_time": "2019-05-27T07:44:35.625304Z",
     "start_time": "2019-05-27T07:44:35.620211Z"
    }
   },
   "outputs": [
    {
     "data": {
      "text/plain": [
       "[[], [], [], [], []]"
      ]
     },
     "execution_count": 145,
     "metadata": {},
     "output_type": "execute_result"
    }
   ],
   "source": [
    "[tweet.urls_ for tweet in tweets]"
   ]
  },
  {
   "cell_type": "code",
   "execution_count": null,
   "metadata": {},
   "outputs": [],
   "source": []
  }
 ],
 "metadata": {
  "hide_input": false,
  "kernelspec": {
   "display_name": "Python 3",
   "language": "python",
   "name": "python3"
  },
  "language_info": {
   "codemirror_mode": {
    "name": "ipython",
    "version": 3
   },
   "file_extension": ".py",
   "mimetype": "text/x-python",
   "name": "python",
   "nbconvert_exporter": "python",
   "pygments_lexer": "ipython3",
   "version": "3.7.3"
  },
  "toc": {
   "base_numbering": 1,
   "nav_menu": {},
   "number_sections": true,
   "sideBar": true,
   "skip_h1_title": false,
   "title_cell": "Table of Contents",
   "title_sidebar": "Contents",
   "toc_cell": false,
   "toc_position": {},
   "toc_section_display": true,
   "toc_window_display": false
  }
 },
 "nbformat": 4,
 "nbformat_minor": 2
}
